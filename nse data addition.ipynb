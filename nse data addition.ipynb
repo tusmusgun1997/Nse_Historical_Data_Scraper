{
 "cells": [
  {
   "cell_type": "markdown",
   "id": "6c68d3a2",
   "metadata": {},
   "source": [
    "  # ADD DATA OF STOCK FOR FIRST TIME"
   ]
  },
  {
   "cell_type": "markdown",
   "id": "52b9b806",
   "metadata": {},
   "source": [
    "# Initialization of dependencies"
   ]
  },
  {
   "cell_type": "code",
   "execution_count": 11,
   "id": "6afa8359",
   "metadata": {},
   "outputs": [],
   "source": [
    "from requests import Session\n",
    "import json\n",
    "from datetime import datetime, timedelta\n",
    "import pymongo\n",
    "from datetime import datetime\n",
    "import pandas as pd\n",
    "import time"
   ]
  },
  {
   "cell_type": "markdown",
   "id": "19e0e080",
   "metadata": {},
   "source": [
    "# Reading symbols data from file"
   ]
  },
  {
   "cell_type": "code",
   "execution_count": 12,
   "id": "2feaae43",
   "metadata": {},
   "outputs": [],
   "source": [
    "df = pd.read_excel(\"./tickers_name.xlsx\")\n",
    "pd.set_option('display.max_rows' , None)\n",
    "df = df.dropna()\n",
    "df = df[df['Market capitalization as on March 31, 2023\\n(Rs in Lakhs)'] != '*Not available for trading as on March 31, 2023']\n",
    "symbols = df['Symbol'].values\n"
   ]
  },
  {
   "cell_type": "markdown",
   "id": "d4bcbe81",
   "metadata": {},
   "source": [
    "# Creating mongo client"
   ]
  },
  {
   "cell_type": "code",
   "execution_count": 8,
   "id": "5c4ebfc1",
   "metadata": {},
   "outputs": [
    {
     "name": "stdout",
     "output_type": "stream",
     "text": [
      "MongoClient(host=['cluster0-shard-00-02.fljgt.mongodb.net:27017', 'cluster0-shard-00-00.fljgt.mongodb.net:27017', 'cluster0-shard-00-01.fljgt.mongodb.net:27017'], document_class=dict, tz_aware=False, connect=True, retrywrites=True, w='majority', authsource='admin', replicaset='atlas-tjkqoe-shard-0', ssl=True)\n"
     ]
    }
   ],
   "source": [
    "mongo_url = "MONGO URI",
    "\n",
    "client = pymongo.MongoClient(mongo_url)\n",
    "print(client)\n",
    "\n",
    "db = client[\"stocks_market\"]\n",
    "\n",
    "collection = db[\"daily_stocks_data\"]"
   ]
  },
  {
   "cell_type": "markdown",
   "id": "e47da8e3",
   "metadata": {},
   "source": [
    "# Creating session"
   ]
  },
  {
   "cell_type": "code",
   "execution_count": 9,
   "id": "734d73b6",
   "metadata": {},
   "outputs": [],
   "source": [
    "s = Session()\n",
    "s.headers.update({\"user-agent\": \"Mozilla/5.0 (Windows NT 10.0; Win64; x64) AppleWebKit/537.36 (KHTML, like Gecko) Chrome/94.0.4606.61 Safari/537.36\"})"
   ]
  },
  {
   "cell_type": "markdown",
   "id": "1763343a",
   "metadata": {},
   "source": [
    "# Function to fetch data for symbol for specific period and adding to database"
   ]
  },
  {
   "cell_type": "code",
   "execution_count": 9,
   "id": "eef8d1da",
   "metadata": {
    "collapsed": true
   },
   "source": [
    "\n",
    "\n",
    "# Function to fetch data for a specific date range\n",
    "def fetch_data(symbol, from_date, to_date):\n",
    "    # Get the cookies from the main page (will update automatically in headers)\n",
    "    s.get(\"https://www.nseindia.com/\")\n",
    "    # Format the date strings\n",
    "    from_date_str = from_date.strftime(\"%d-%m-%Y\")\n",
    "    to_date_str = to_date.strftime(\"%d-%m-%Y\")\n",
    "    \n",
    "    # Get the API data\n",
    "    response = s.get(f\"https://www.nseindia.com/api/historical/cm/equity?symbol={symbol}&series=[%22EQ%22]&from={from_date_str}&to={to_date_str}\")\n",
    "    if response.status_code == 200:\n",
    "        data = json.loads(response.text)\n",
    "        return data\n",
    "    else:\n",
    "        print(f\"Failed to fetch data for {from_date_str} to {to_date_str}. Status Code: {response.status_code}\")\n",
    "        return None\n",
    "\n",
    "\n",
    "def string_to_datetime(date_string, date_format=\"%Y-%m-%d\"):\n",
    "    try:\n",
    "        date_obj = datetime.strptime(date_string, date_format)\n",
    "        return date_obj\n",
    "    except ValueError:\n",
    "        # Handle an invalid date format\n",
    "        return None\n",
    "\n",
    "\n",
    "for symb in symbols[:500]:\n",
    "    historical_data_list = []\n",
    "    start_date = datetime(2023, 10, 20)\n",
    "    end_date = datetime(2023, 10, 20)\n",
    "    \n",
    "    while True:\n",
    "        data = fetch_data(symb, start_date, end_date)\n",
    "        if data:\n",
    "            for i in data['data']:\n",
    "                historical_data_list.append({\n",
    "                    \"open\": i['CH_OPENING_PRICE'],\n",
    "                    \"close\": i['CH_CLOSING_PRICE'],\n",
    "                    \"high\": i['CH_TRADE_HIGH_PRICE'],\n",
    "                    \"low\": i['CH_TRADE_LOW_PRICE'],\n",
    "                    \"date\": i['CH_TIMESTAMP']\n",
    "                })\n",
    "            if(len(data[\"data\"]) == 0 or \"2019\" in historical_data_list[-1][\"date\"]): break\n",
    "        last_date_received = historical_data_list[-1][\"date\"]\n",
    "        end_date = string_to_datetime(last_date_received,\"%Y-%m-%d\") - timedelta(days=1)  # Set end_date to the day before the start_date\n",
    "        start_date = end_date - timedelta(days=365)  # Set start_date to one year before the new end_date\n",
    "        print(start_date, end_date)\n",
    "        time.sleep(0.1)\n",
    "    schema = {\n",
    "        \"symbol\": symb,\n",
    "        \"data\": historical_data_list\n",
    "    }\n",
    "    print(schema)\n",
    "    collection.insert_one(schema)\n"
   ]
  },
  {
   "cell_type": "code",
   "execution_count": 3,
   "id": "60fd9f1b",
   "metadata": {
    "collapsed": true
   },
   "outputs": [
    {
     "data": {
      "text/plain": [
       "'@@@@@@@@@@@@@@@@@@@@@@@@@@@@@@@@@@@@@@@@@@@@@@@@@@@@@@@@@@@@@@@@@@@@@@@@@@@@@@@@@@@@@@@@@@@@@@@@@@@@@@@@@@@@@@@@@@@@@@@@@@@@@@@'"
      ]
     },
     "execution_count": 3,
     "metadata": {},
     "output_type": "execute_result"
    }
   ],
   "source": [
    "'@@@@@@@@@@@@@@@@@@@@@@@@@@@@@@@@@@@@@@@@@@@@@@@@@@@@@@@@@@@@@@@@@@@@@@@@@@@@@@@@@@@@@@@@@@@@@@@@@@@@@@@@@@@@@@@@@@@@@@@@@@@@@@@'\n",
    "'@@@@@@@@@@@@@@@@@@@@@@@@@@@@@@@@@@@@@@@@@@@@@@@@@@@@@@@@@@@@@@@@@@@@@@@@@@@@@@@@@@@@@@@@@@@@@@@@@@@@@@@@@@@@@@@@@@@@@@@@@@@@@@@'\n",
    "'@@@@@@@@@@@@@@@@@@@@@@@@@@@@@@@@@@@@@@@@@@@@@@@@@@@@@@@@@@@@@@@@@@@@@@@@@@@@@@@@@@@@@@@@@@@@@@@@@@@@@@@@@@@@@@@@@@@@@@@@@@@@@@@'\n",
    "'@@@@@@@@@@@@@@@@@@@@@@@@@@@@@@@@@@@@@@@@@@@@@@@@@@@@@@@@@@@@@@@@@@@@@@@@@@@@@@@@@@@@@@@@@@@@@@@@@@@@@@@@@@@@@@@@@@@@@@@@@@@@@@@'\n",
    "'@@@@@@@@@@@@@@@@@@@@@@@@@@@@@@@@@@@@@@@@@@@@@@@@@@@@@@@@@@@@@@@@@@@@@@@@@@@@@@@@@@@@@@@@@@@@@@@@@@@@@@@@@@@@@@@@@@@@@@@@@@@@@@@'\n",
    "'@@@@@@@@@@@@@@@@@@@@@@@@@@@@@@@@@@@@@@@@@@@@@@@@@@@@@@@@@@@@@@@@@@@@@@@@@@@@@@@@@@@@@@@@@@@@@@@@@@@@@@@@@@@@@@@@@@@@@@@@@@@@@@@'\n",
    "'@@@@@@@@@@@@@@@@@@@@@@@@@@@@@@@@@@@@@@@@@@@@@@@@@@@@@@@@@@@@@@@@@@@@@@@@@@@@@@@@@@@@@@@@@@@@@@@@@@@@@@@@@@@@@@@@@@@@@@@@@@@@@@@'\n",
    "'@@@@@@@@@@@@@@@@@@@@@@@@@@@@@@@@@@@@@@@@@@@@@@@@@@@@@@@@@@@@@@@@@@@@@@@@@@@@@@@@@@@@@@@@@@@@@@@@@@@@@@@@@@@@@@@@@@@@@@@@@@@@@@@'"
   ]
  },
  {
   "cell_type": "markdown",
   "id": "8123e1a4",
   "metadata": {},
   "source": [
    "# ADDING DATA TO ALREADY ADDED STOCKS"
   ]
  },
  {
   "cell_type": "markdown",
   "id": "9b5ffac1",
   "metadata": {},
   "source": []
  }
 ],
 "metadata": {
  "kernelspec": {
   "display_name": "Python 3",
   "language": "python",
   "name": "python3"
  },
  "language_info": {
   "codemirror_mode": {
    "name": "ipython",
    "version": 3
   },
   "file_extension": ".py",
   "mimetype": "text/x-python",
   "name": "python",
   "nbconvert_exporter": "python",
   "pygments_lexer": "ipython3",
   "version": "3.8.8"
  }
 },
 "nbformat": 4,
 "nbformat_minor": 5
}
